{
 "cells": [
  {
   "cell_type": "markdown",
   "metadata": {},
   "source": [
    "# BCB546X Python Assignment\n",
    "Laura Tibbs\n",
    "Nov 16, 2018\n",
    "- This is the Jupyter notebook containing all analyses and annotation for the assignment.\n",
    "\n",
    "## Part 0: Import packages and data"
   ]
  },
  {
   "cell_type": "code",
   "execution_count": 1,
   "metadata": {},
   "outputs": [],
   "source": [
    "# import packages to use in this script; this requires that relevant packages were previously installed\n",
    "\n",
    "from Bio import SeqIO\n",
    "from Bio.Data import CodonTable\n",
    "from Bio.Seq import Seq\n",
    "from Bio.Alphabet import IUPAC\n",
    "from Bio.SeqUtils.ProtParam import ProteinAnalysis\n",
    "\n",
    "import pandas as pd\n",
    "import urllib.request\n",
    "import matplotlib.pyplot as plt\n",
    "import seaborn as sns"
   ]
  },
  {
   "cell_type": "code",
   "execution_count": 2,
   "metadata": {},
   "outputs": [
    {
     "data": {
      "text/plain": [
       "('seqence_translate.py', <http.client.HTTPMessage at 0x1eddc5c7160>)"
      ]
     },
     "execution_count": 2,
     "metadata": {},
     "output_type": "execute_result"
    }
   ],
   "source": [
    "# download data to use in analysis\n",
    "\n",
    "urllib.request.urlretrieve('https://raw.githubusercontent.com/EEOB-BioData/BCB546X-Fall2018/master/assignments/Python_Assignment/bears_cytb.fasta', 'bears_cytb.fasta')\n",
    "urllib.request.urlretrieve('https://raw.githubusercontent.com/EEOB-BioData/BCB546X-Fall2018/master/assignments/Python_Assignment/bears_mass.csv', 'bears_mass.csv')\n",
    "urllib.request.urlretrieve('https://raw.githubusercontent.com/EEOB-BioData/BCB546X-Fall2018/master/assignments/Python_Assignment/seqence_translate.py', 'seqence_translate.py')"
   ]
  },
  {
   "cell_type": "markdown",
   "metadata": {},
   "source": [
    "## Part 1: Functions\n",
    "This part contains both Dr. X's function (annotated by me) and my own functions to use later in the script."
   ]
  },
  {
   "cell_type": "markdown",
   "metadata": {},
   "source": [
    "### Function 1: get_sequences_from_file (Dr. X)\n",
    "This function does what it says in its title: it gets sequences from a file. Specifically, it takes a fasta file that contains multiple sequences, then parses each record and puts it into a dictionary such that the key is the species name (as a string) and the value is the sequence data (as a Seq object)."
   ]
  },
  {
   "cell_type": "code",
   "execution_count": 3,
   "metadata": {},
   "outputs": [],
   "source": [
    "def get_sequences_from_file(fasta_fn): # define a function to get sequences from fasta file containing multiple sequences\n",
    "    sequence_data_dict = {} # make an empty dictionary to hold sequence data\n",
    "    for record in SeqIO.parse(fasta_fn, \"fasta\"): # loop through records and use BioPython's SeqIO to parse multiple sequences from one file, of type \"fasta\"\n",
    "        description = record.description.split() # extract and split the description of the given Seq record into its component parts (information about `.description` found on BioPython wiki at https://biopython.org/wiki/SeqRecord in the BioPython wiki)\n",
    "        species_name = description[1] + \" \" + description[2] # combine genus and species from the description to get full name\n",
    "        sequence_data_dict[species_name] = record.seq # make an entry in the dictionary, in which species name is the key to the corresponding sequence\n",
    "    return(sequence_data_dict) # return the dictionary containing species as key to the sequence data"
   ]
  },
  {
   "cell_type": "markdown",
   "metadata": {},
   "source": [
    "### Function 2: string_translate function\n",
    "Without using BioPython, create a function to take a DNA sequence as a string or as a Seq object, translate it, and return the protein produced as a Seq object with alphabet IUPAC.protein. This is based on Dr. X's pseudocode."
   ]
  },
  {
   "cell_type": "code",
   "execution_count": 4,
   "metadata": {},
   "outputs": [],
   "source": [
    "def translate_function(DNA_seq): # define a function that takes DNA sequences as strings OR Seq objects\n",
    "    DNA_string=str(DNA_seq) # convert DNA input to a string\n",
    "    mito_table=CodonTable.unambiguous_dna_by_name[\"Vertebrate Mitochondrial\"] # this returns the translation table; see section below for explanation\n",
    "    aa_string=\"\" # initialize empty string for aa\n",
    "    for i in range(0, len(DNA_string))[::3]: # as stated in assignment, assume all sequences start at position 1 (which is 0 in python indexing). Use `range()` to loop through the positions from 0 to the full length of the string (learned about `range()` in for loops in Python lesson at https://snakify.org/en/lessons/for_loop_range/). Finally, use [::3] as learned in class to loop over every 3rd element.\n",
    "        codon=DNA_string[i:i+3] # extract the codon\n",
    "        if codon in [\"TAA\", \"TAG\", \"AGA\", \"AGG\"]: # if at a stop codon, stop translating\n",
    "            break # use to exit without adding an aa to the string; found information about `break` in python documentation at https://docs.python.org/2/tutorial/controlflow.html\n",
    "        aa=mito_table.forward_table[codon] # translate the current codon\n",
    "        aa_string=aa_string+aa # add the next aa to the growing string\n",
    "    aa_seq=Seq(aa_string) # convert the aa string to a Seq object\n",
    "    aa_seq.alphabet=IUPAC.protein # set the aa Seq object's alphabet to IUPAC.protein\n",
    "    return(aa_seq) # return the protein sequence"
   ]
  },
  {
   "cell_type": "code",
   "execution_count": 5,
   "metadata": {},
   "outputs": [
    {
     "name": "stdout",
     "output_type": "stream",
     "text": [
      "Table 2 Vertebrate Mitochondrial, SGC1\n",
      "\n",
      "  |  T      |  C      |  A      |  G      |\n",
      "--+---------+---------+---------+---------+--\n",
      "T | TTT F   | TCT S   | TAT Y   | TGT C   | T\n",
      "T | TTC F   | TCC S   | TAC Y   | TGC C   | C\n",
      "T | TTA L   | TCA S   | TAA Stop| TGA W   | A\n",
      "T | TTG L   | TCG S   | TAG Stop| TGG W   | G\n",
      "--+---------+---------+---------+---------+--\n",
      "C | CTT L   | CCT P   | CAT H   | CGT R   | T\n",
      "C | CTC L   | CCC P   | CAC H   | CGC R   | C\n",
      "C | CTA L   | CCA P   | CAA Q   | CGA R   | A\n",
      "C | CTG L   | CCG P   | CAG Q   | CGG R   | G\n",
      "--+---------+---------+---------+---------+--\n",
      "A | ATT I(s)| ACT T   | AAT N   | AGT S   | T\n",
      "A | ATC I(s)| ACC T   | AAC N   | AGC S   | C\n",
      "A | ATA M(s)| ACA T   | AAA K   | AGA Stop| A\n",
      "A | ATG M(s)| ACG T   | AAG K   | AGG Stop| G\n",
      "--+---------+---------+---------+---------+--\n",
      "G | GTT V   | GCT A   | GAT D   | GGT G   | T\n",
      "G | GTC V   | GCC A   | GAC D   | GGC G   | C\n",
      "G | GTA V   | GCA A   | GAA E   | GGA G   | A\n",
      "G | GTG V(s)| GCG A   | GAG E   | GGG G   | G\n",
      "--+---------+---------+---------+---------+--\n"
     ]
    }
   ],
   "source": [
    "# investigate what `CodonTable.unambiguous_dna_by_name[\"Vertebrate Mitochondrial\"]` returns:\n",
    "mito_table=CodonTable.unambiguous_dna_by_name[\"Vertebrate Mitochondrial\"]\n",
    "print(mito_table)\n",
    "\n",
    "# This returns the codon translation table for vertebrate mitochondria.\n",
    "# The left side shows the first letter of the codon, the top shows the second letter, and the right shows the third letter.\n",
    "# Then, the intersections of the letters in these positions correspond to the amino acid (or stop codon) coded for."
   ]
  },
  {
   "cell_type": "code",
   "execution_count": 6,
   "metadata": {},
   "outputs": [
    {
     "data": {
      "text/plain": [
       "'V'"
      ]
     },
     "execution_count": 6,
     "metadata": {},
     "output_type": "execute_result"
    }
   ],
   "source": [
    "# how to retrieve amino acids (from Dr. X's pseudocode):\n",
    "mito_table.forward_table[\"GTT\"]\n",
    "\n",
    "# this returns the amino acid coded for by the codon represented by the string \"GTT\""
   ]
  },
  {
   "cell_type": "code",
   "execution_count": 7,
   "metadata": {},
   "outputs": [
    {
     "data": {
      "text/plain": [
       "Seq('MAIVMGRWKGAR', IUPACProtein())"
      ]
     },
     "execution_count": 7,
     "metadata": {},
     "output_type": "execute_result"
    }
   ],
   "source": [
    "# test that this function works with a known sequence, \n",
    "# from Biopython tutorial and cookbook (http://biopython.org/DIST/docs/tutorial/Tutorial.html),\n",
    "# section 3.9, Translation:\n",
    "test2=Seq('ATGGCCATTGTAATGGGCCGCTGAAAGGGTGCCCGATAG')\n",
    "translate_function(test2)\n",
    "\n",
    "# this should give MAIVMGRWKGAR as a Seq object with IUPACProtein alphabet"
   ]
  },
  {
   "cell_type": "code",
   "execution_count": 8,
   "metadata": {},
   "outputs": [
    {
     "data": {
      "text/plain": [
       "Seq('MA', IUPACProtein())"
      ]
     },
     "execution_count": 8,
     "metadata": {},
     "output_type": "execute_result"
    }
   ],
   "source": [
    "# test that this function also works with strings by using the above test sequnce as a string,\n",
    "# and test that it recognizes stop codons properly by inserting the stop codon \"TAG\" \n",
    "# as the third codon in this string\n",
    "test2_string=\"ATGGCCTAGATTGTAATGGGCCGCTGAAAGGGTGCCCGATAG\"\n",
    "translate_function(test2_string)\n",
    "\n",
    "# this should give MA as a Seq object with IUPACProtein alphabet"
   ]
  },
  {
   "cell_type": "markdown",
   "metadata": {},
   "source": [
    "### Function 3: alt_str_translate function\n",
    "Use BioPython to make an alternative function to translate a Seq object or a string from DNA to protein (as a Seq object with IUPACPprotein alphabet)."
   ]
  },
  {
   "cell_type": "code",
   "execution_count": 9,
   "metadata": {},
   "outputs": [],
   "source": [
    " # define a function that takes vertebrate mitochondrial DNA as a Seq object or string\n",
    "    # and returns the translated protein as a Seq object with IUPACProtein alphabet\n",
    "def alt_str_translate(DNA_string): # define function\n",
    "    DNAseq=Seq(str(DNA_string), IUPAC.unambiguous_dna) # make into a Seq object with DNA alphabet\n",
    "    protein=DNAseq.translate(to_stop=True, table=\"Vertebrate Mitochondrial\") # translate the Seq object, stop at stop codon, use vertebrate mitochondrial translation table\n",
    "    return(protein) # return the translated sequence"
   ]
  },
  {
   "cell_type": "code",
   "execution_count": 10,
   "metadata": {},
   "outputs": [
    {
     "data": {
      "text/plain": [
       "Seq('MAIVMGRWKGAR', IUPACProtein())"
      ]
     },
     "execution_count": 10,
     "metadata": {},
     "output_type": "execute_result"
    }
   ],
   "source": [
    "# test that this function works with a known example sequence, \n",
    "# from Biopython tutorial and cookbook (http://biopython.org/DIST/docs/tutorial/Tutorial.html),\n",
    "# section 3.9, Translation:\n",
    "test3=Seq('ATGGCCATTGTAATGGGCCGCTGAAAGGGTGCCCGATAG')\n",
    "alt_str_translate(test3)\n",
    "# this should give MAIVMGRWKGAR as a Seq object with IUPACProtein alphabet"
   ]
  },
  {
   "cell_type": "code",
   "execution_count": 11,
   "metadata": {},
   "outputs": [
    {
     "data": {
      "text/plain": [
       "Seq('MAIVMGRWKGAR', IUPACProtein())"
      ]
     },
     "execution_count": 11,
     "metadata": {},
     "output_type": "execute_result"
    }
   ],
   "source": [
    "# test that this function also works with a string:\n",
    "test3_string='ATGGCCATTGTAATGGGCCGCTGAAAGGGTGCCCGATAG'\n",
    "alt_str_translate(test3_string)\n",
    "# this should give MAIVMGRWKGAR as a Seq object with IUPACProtein alphabet"
   ]
  },
  {
   "cell_type": "markdown",
   "metadata": {},
   "source": [
    "### Function 4: \n",
    "Use BioPython functions to take a string of amino acids and return the molecular weight of this protein. At \"Dr. X\"'s instruction, use ProtParam functions in this task."
   ]
  },
  {
   "cell_type": "code",
   "execution_count": 12,
   "metadata": {},
   "outputs": [],
   "source": [
    "def compute_molecular_weight(aa_seq): # define function that takes aa as string\n",
    "    analysed_aa=ProteinAnalysis(aa_seq) # use ProteinAnalysis() from https://biopython.org/wiki/ProtParam to analyze the provided aa string\n",
    "    return(analysed_aa.molecular_weight()) # use .molecular_weight() (information at https://biopython.org/wiki/ProtParam) to extract molecular weight"
   ]
  },
  {
   "cell_type": "code",
   "execution_count": 13,
   "metadata": {},
   "outputs": [
    {
     "data": {
      "text/plain": [
       "17103.1617"
      ]
     },
     "execution_count": 13,
     "metadata": {},
     "output_type": "execute_result"
    }
   ],
   "source": [
    "# test that the above function works using a known example sequence,\n",
    "# found on the BioPython wiki at https://biopython.org/wiki/ProtParam\n",
    "test4 = \"MAEGEITTFTALTEKFNLPPGNYKKPKLLYCSNGGHFLRILPDGTVDGTRDRSDQHIQLQLSAESVGEVYIKSTETGQYLAMDTSGLLYGSQTPSEECLFLERLEENHYNTYTSKKHAEKNWFVGLKKNGSCKRGPRTHYGQKAILFLPLPV\"\n",
    "compute_molecular_weight(test4)\n",
    "\n",
    "# this should output 17103.1617"
   ]
  },
  {
   "cell_type": "markdown",
   "metadata": {},
   "source": [
    "### Function 5: get_GC_content\n",
    "Write a function to calculate the content of G and C in a DNA sequence given as a Seq object or a string, and return this GC content as a proportion."
   ]
  },
  {
   "cell_type": "code",
   "execution_count": 14,
   "metadata": {},
   "outputs": [],
   "source": [
    "# define a function that takes a DNA sequence as a Seq object or string and returns the GC proportion.\n",
    "def get_GC_content(DNA_string): # define function\n",
    "    return((DNA_string.count(\"C\")+DNA_string.count(\"G\"))/(len(DNA_string))) # return the GC content as a proportion, which is 100 x (#C + #G)/total NT   "
   ]
  },
  {
   "cell_type": "code",
   "execution_count": 15,
   "metadata": {},
   "outputs": [
    {
     "name": "stdout",
     "output_type": "stream",
     "text": [
      "0.38461538461538464\n",
      "0.38461538461538464\n"
     ]
    }
   ],
   "source": [
    "# test that this function works with a known example sequence,\n",
    "# from the BioPython class notes\n",
    "test5 = Seq('TTTAAAATGCGGG', IUPAC.unambiguous_dna)\n",
    "print(get_GC_content(test5))\n",
    "\n",
    "# test that the function will also work with the known example sequence as a string rather than a Seq object\n",
    "test5_string=\"TTTAAAATGCGGG\"\n",
    "print(get_GC_content(test5_string))\n",
    "\n",
    "#the value for both should be 0.3846... if the function works correctly, and it is."
   ]
  },
  {
   "cell_type": "markdown",
   "metadata": {},
   "source": [
    "## Part 2: Main Script\n",
    "Use functions from above to analyse the bear data."
   ]
  },
  {
   "cell_type": "code",
   "execution_count": 16,
   "metadata": {},
   "outputs": [
    {
     "data": {
      "text/plain": [
       "{'Ursus spelaeus': Seq('ATGACCAACATCCGAAAAACCCATCCATTAGCTAAAATCATCAACAACTCATTT...AGA', SingleLetterAlphabet()),\n",
       " 'Ursus arctos': Seq('ATGACCAACATCCGAAAAACCCACCCATTAGCTAAAATCATCAACAACTCACTT...AGA', SingleLetterAlphabet()),\n",
       " 'Ursus thibetanus': Seq('ATGACCAACATCCGAAAAACCCATCCATTAGCCAAAATCATCAACAACTCACTC...AGA', SingleLetterAlphabet()),\n",
       " 'Melursus ursinus': Seq('ATGACCAACATCCGAAAAACCCACCCATTAGCTAAAATCATTAACAACTCACTC...AGA', SingleLetterAlphabet()),\n",
       " 'Ursus americanus': Seq('ATGACCAACATCCGAAAAACCCACCCATTAGCTAAAATCATCAACAACTCACTT...AGA', SingleLetterAlphabet()),\n",
       " 'Helarctos malayanus': Seq('ATGACCAACATCCGAAAAACCCACCCATTAGCTAAAATCATTAACAACTCACTT...AGA', SingleLetterAlphabet()),\n",
       " 'Ailuropoda melanoleuca': Seq('ATGATCAACATCCGAAAAACTCATCCATTAGTTAAAATTATCAACAACTCATTC...AGA', SingleLetterAlphabet()),\n",
       " 'Tremarctos ornatus': Seq('ATGACCAACATCCGAAAAACTCACCCACTAGCTAAAATCATCAACAGCTCATTC...AGA', SingleLetterAlphabet()),\n",
       " 'Ursus maritimus': Seq('ATGACCAACATCCGAAAAACCCACCCATTAGCTAAAATCATCAACAACTCATTT...AGA', SingleLetterAlphabet())}"
      ]
     },
     "execution_count": 16,
     "metadata": {},
     "output_type": "execute_result"
    }
   ],
   "source": [
    "# use function from above to read in sequences from fasta file\n",
    "cytb_seqs = get_sequences_from_file(\"bears_cytb.fasta\") \n",
    "cytb_seqs # visually check that this imported correctly"
   ]
  },
  {
   "cell_type": "code",
   "execution_count": 17,
   "metadata": {},
   "outputs": [
    {
     "data": {
      "text/html": [
       "<div>\n",
       "<style scoped>\n",
       "    .dataframe tbody tr th:only-of-type {\n",
       "        vertical-align: middle;\n",
       "    }\n",
       "\n",
       "    .dataframe tbody tr th {\n",
       "        vertical-align: top;\n",
       "    }\n",
       "\n",
       "    .dataframe thead th {\n",
       "        text-align: right;\n",
       "    }\n",
       "</style>\n",
       "<table border=\"1\" class=\"dataframe\">\n",
       "  <thead>\n",
       "    <tr style=\"text-align: right;\">\n",
       "      <th></th>\n",
       "      <th>species</th>\n",
       "      <th>mass</th>\n",
       "    </tr>\n",
       "  </thead>\n",
       "  <tbody>\n",
       "    <tr>\n",
       "      <th>0</th>\n",
       "      <td>Ursus spelaeus</td>\n",
       "      <td>550.800</td>\n",
       "    </tr>\n",
       "    <tr>\n",
       "      <th>1</th>\n",
       "      <td>Ursus arctos</td>\n",
       "      <td>203.500</td>\n",
       "    </tr>\n",
       "    <tr>\n",
       "      <th>2</th>\n",
       "      <td>Ursus thibetanus</td>\n",
       "      <td>99.714</td>\n",
       "    </tr>\n",
       "    <tr>\n",
       "      <th>3</th>\n",
       "      <td>Melursus ursinus</td>\n",
       "      <td>100.030</td>\n",
       "    </tr>\n",
       "    <tr>\n",
       "      <th>4</th>\n",
       "      <td>Ursus americanus</td>\n",
       "      <td>110.560</td>\n",
       "    </tr>\n",
       "    <tr>\n",
       "      <th>5</th>\n",
       "      <td>Helarctos malayanus</td>\n",
       "      <td>47.020</td>\n",
       "    </tr>\n",
       "    <tr>\n",
       "      <th>6</th>\n",
       "      <td>Ailuropoda melanoleuca</td>\n",
       "      <td>118.200</td>\n",
       "    </tr>\n",
       "    <tr>\n",
       "      <th>7</th>\n",
       "      <td>Tremarctos ornatus</td>\n",
       "      <td>140.700</td>\n",
       "    </tr>\n",
       "    <tr>\n",
       "      <th>8</th>\n",
       "      <td>Ursus maritimus</td>\n",
       "      <td>425.100</td>\n",
       "    </tr>\n",
       "  </tbody>\n",
       "</table>\n",
       "</div>"
      ],
      "text/plain": [
       "                  species     mass\n",
       "0          Ursus spelaeus  550.800\n",
       "1            Ursus arctos  203.500\n",
       "2        Ursus thibetanus   99.714\n",
       "3        Melursus ursinus  100.030\n",
       "4        Ursus americanus  110.560\n",
       "5     Helarctos malayanus   47.020\n",
       "6  Ailuropoda melanoleuca  118.200\n",
       "7      Tremarctos ornatus  140.700\n",
       "8         Ursus maritimus  425.100"
      ]
     },
     "execution_count": 17,
     "metadata": {},
     "output_type": "execute_result"
    }
   ],
   "source": [
    "# read in bear mass data using pandas (pd)\n",
    "bears_df = pd.read_csv(\"bears_mass.csv\") # Includes only data for body mass \n",
    "bears_df # visually check that it imported correctly"
   ]
  },
  {
   "cell_type": "code",
   "execution_count": 18,
   "metadata": {},
   "outputs": [
    {
     "data": {
      "text/plain": [
       "['Ursus spelaeus',\n",
       " 'Ursus arctos',\n",
       " 'Ursus thibetanus',\n",
       " 'Melursus ursinus',\n",
       " 'Ursus americanus',\n",
       " 'Helarctos malayanus',\n",
       " 'Ailuropoda melanoleuca',\n",
       " 'Tremarctos ornatus',\n",
       " 'Ursus maritimus']"
      ]
     },
     "execution_count": 18,
     "metadata": {},
     "output_type": "execute_result"
    }
   ],
   "source": [
    "# make a list of all bear species from the dataframe read in above\n",
    "species_list = list(bears_df.species)\n",
    "species_list # check the list visually"
   ]
  },
  {
   "cell_type": "markdown",
   "metadata": {},
   "source": [
    "### Section 6:\n",
    "Add new columns to the bears dataframe for molecular weight and GC content, containing 'NaN' in each cell."
   ]
  },
  {
   "cell_type": "code",
   "execution_count": 19,
   "metadata": {},
   "outputs": [
    {
     "data": {
      "text/html": [
       "<div>\n",
       "<style scoped>\n",
       "    .dataframe tbody tr th:only-of-type {\n",
       "        vertical-align: middle;\n",
       "    }\n",
       "\n",
       "    .dataframe tbody tr th {\n",
       "        vertical-align: top;\n",
       "    }\n",
       "\n",
       "    .dataframe thead th {\n",
       "        text-align: right;\n",
       "    }\n",
       "</style>\n",
       "<table border=\"1\" class=\"dataframe\">\n",
       "  <thead>\n",
       "    <tr style=\"text-align: right;\">\n",
       "      <th></th>\n",
       "      <th>species</th>\n",
       "      <th>mass</th>\n",
       "      <th>molec_weight</th>\n",
       "      <th>GC_content</th>\n",
       "    </tr>\n",
       "  </thead>\n",
       "  <tbody>\n",
       "    <tr>\n",
       "      <th>0</th>\n",
       "      <td>Ursus spelaeus</td>\n",
       "      <td>550.800</td>\n",
       "      <td>NaN</td>\n",
       "      <td>NaN</td>\n",
       "    </tr>\n",
       "    <tr>\n",
       "      <th>1</th>\n",
       "      <td>Ursus arctos</td>\n",
       "      <td>203.500</td>\n",
       "      <td>NaN</td>\n",
       "      <td>NaN</td>\n",
       "    </tr>\n",
       "    <tr>\n",
       "      <th>2</th>\n",
       "      <td>Ursus thibetanus</td>\n",
       "      <td>99.714</td>\n",
       "      <td>NaN</td>\n",
       "      <td>NaN</td>\n",
       "    </tr>\n",
       "    <tr>\n",
       "      <th>3</th>\n",
       "      <td>Melursus ursinus</td>\n",
       "      <td>100.030</td>\n",
       "      <td>NaN</td>\n",
       "      <td>NaN</td>\n",
       "    </tr>\n",
       "    <tr>\n",
       "      <th>4</th>\n",
       "      <td>Ursus americanus</td>\n",
       "      <td>110.560</td>\n",
       "      <td>NaN</td>\n",
       "      <td>NaN</td>\n",
       "    </tr>\n",
       "    <tr>\n",
       "      <th>5</th>\n",
       "      <td>Helarctos malayanus</td>\n",
       "      <td>47.020</td>\n",
       "      <td>NaN</td>\n",
       "      <td>NaN</td>\n",
       "    </tr>\n",
       "    <tr>\n",
       "      <th>6</th>\n",
       "      <td>Ailuropoda melanoleuca</td>\n",
       "      <td>118.200</td>\n",
       "      <td>NaN</td>\n",
       "      <td>NaN</td>\n",
       "    </tr>\n",
       "    <tr>\n",
       "      <th>7</th>\n",
       "      <td>Tremarctos ornatus</td>\n",
       "      <td>140.700</td>\n",
       "      <td>NaN</td>\n",
       "      <td>NaN</td>\n",
       "    </tr>\n",
       "    <tr>\n",
       "      <th>8</th>\n",
       "      <td>Ursus maritimus</td>\n",
       "      <td>425.100</td>\n",
       "      <td>NaN</td>\n",
       "      <td>NaN</td>\n",
       "    </tr>\n",
       "  </tbody>\n",
       "</table>\n",
       "</div>"
      ],
      "text/plain": [
       "                  species     mass molec_weight GC_content\n",
       "0          Ursus spelaeus  550.800          NaN        NaN\n",
       "1            Ursus arctos  203.500          NaN        NaN\n",
       "2        Ursus thibetanus   99.714          NaN        NaN\n",
       "3        Melursus ursinus  100.030          NaN        NaN\n",
       "4        Ursus americanus  110.560          NaN        NaN\n",
       "5     Helarctos malayanus   47.020          NaN        NaN\n",
       "6  Ailuropoda melanoleuca  118.200          NaN        NaN\n",
       "7      Tremarctos ornatus  140.700          NaN        NaN\n",
       "8         Ursus maritimus  425.100          NaN        NaN"
      ]
     },
     "execution_count": 19,
     "metadata": {},
     "output_type": "execute_result"
    }
   ],
   "source": [
    "for index, row in bears_df.iterrows(): # iterate through the dataframe\n",
    "    bears_df.loc[index, 'molec_weight']='NaN' # make new column for molecular weight and set each value to 'NaN'\n",
    "    bears_df.loc[index, 'GC_content']='NaN' # make new column for GC content and set each value to 'NaN'\n",
    "bears_df # visually check that the new columns were added"
   ]
  },
  {
   "cell_type": "markdown",
   "metadata": {},
   "source": [
    "### Section 7:\n",
    "Translate each sequence, then get molecular weight and GC content for each of these translated sequences. Add this information to the dataframe. This is based on pseudocode in `sequence_translate.py`."
   ]
  },
  {
   "cell_type": "code",
   "execution_count": 20,
   "metadata": {},
   "outputs": [
    {
     "data": {
      "text/html": [
       "<div>\n",
       "<style scoped>\n",
       "    .dataframe tbody tr th:only-of-type {\n",
       "        vertical-align: middle;\n",
       "    }\n",
       "\n",
       "    .dataframe tbody tr th {\n",
       "        vertical-align: top;\n",
       "    }\n",
       "\n",
       "    .dataframe thead th {\n",
       "        text-align: right;\n",
       "    }\n",
       "</style>\n",
       "<table border=\"1\" class=\"dataframe\">\n",
       "  <thead>\n",
       "    <tr style=\"text-align: right;\">\n",
       "      <th></th>\n",
       "      <th>species</th>\n",
       "      <th>mass</th>\n",
       "      <th>molec_weight</th>\n",
       "      <th>GC_content</th>\n",
       "    </tr>\n",
       "  </thead>\n",
       "  <tbody>\n",
       "    <tr>\n",
       "      <th>0</th>\n",
       "      <td>Ursus spelaeus</td>\n",
       "      <td>550.800</td>\n",
       "      <td>42458.8</td>\n",
       "      <td>0.437719</td>\n",
       "    </tr>\n",
       "    <tr>\n",
       "      <th>1</th>\n",
       "      <td>Ursus arctos</td>\n",
       "      <td>203.500</td>\n",
       "      <td>42414.7</td>\n",
       "      <td>0.437719</td>\n",
       "    </tr>\n",
       "    <tr>\n",
       "      <th>2</th>\n",
       "      <td>Ursus thibetanus</td>\n",
       "      <td>99.714</td>\n",
       "      <td>42306.7</td>\n",
       "      <td>0.45614</td>\n",
       "    </tr>\n",
       "    <tr>\n",
       "      <th>3</th>\n",
       "      <td>Melursus ursinus</td>\n",
       "      <td>100.030</td>\n",
       "      <td>42552</td>\n",
       "      <td>0.451754</td>\n",
       "    </tr>\n",
       "    <tr>\n",
       "      <th>4</th>\n",
       "      <td>Ursus americanus</td>\n",
       "      <td>110.560</td>\n",
       "      <td>42427.7</td>\n",
       "      <td>0.439474</td>\n",
       "    </tr>\n",
       "    <tr>\n",
       "      <th>5</th>\n",
       "      <td>Helarctos malayanus</td>\n",
       "      <td>47.020</td>\n",
       "      <td>42560.9</td>\n",
       "      <td>0.442982</td>\n",
       "    </tr>\n",
       "    <tr>\n",
       "      <th>6</th>\n",
       "      <td>Ailuropoda melanoleuca</td>\n",
       "      <td>118.200</td>\n",
       "      <td>42702.2</td>\n",
       "      <td>0.407895</td>\n",
       "    </tr>\n",
       "    <tr>\n",
       "      <th>7</th>\n",
       "      <td>Tremarctos ornatus</td>\n",
       "      <td>140.700</td>\n",
       "      <td>42384.8</td>\n",
       "      <td>0.44386</td>\n",
       "    </tr>\n",
       "    <tr>\n",
       "      <th>8</th>\n",
       "      <td>Ursus maritimus</td>\n",
       "      <td>425.100</td>\n",
       "      <td>42454.8</td>\n",
       "      <td>0.442982</td>\n",
       "    </tr>\n",
       "  </tbody>\n",
       "</table>\n",
       "</div>"
      ],
      "text/plain": [
       "                  species     mass molec_weight GC_content\n",
       "0          Ursus spelaeus  550.800      42458.8   0.437719\n",
       "1            Ursus arctos  203.500      42414.7   0.437719\n",
       "2        Ursus thibetanus   99.714      42306.7    0.45614\n",
       "3        Melursus ursinus  100.030        42552   0.451754\n",
       "4        Ursus americanus  110.560      42427.7   0.439474\n",
       "5     Helarctos malayanus   47.020      42560.9   0.442982\n",
       "6  Ailuropoda melanoleuca  118.200      42702.2   0.407895\n",
       "7      Tremarctos ornatus  140.700      42384.8    0.44386\n",
       "8         Ursus maritimus  425.100      42454.8   0.442982"
      ]
     },
     "execution_count": 20,
     "metadata": {},
     "output_type": "execute_result"
    }
   ],
   "source": [
    "for key, value in cytb_seqs.items(): # loop through all elements of the cytb sequence dataset\n",
    "    aa_seq=alt_str_translate(value) # translate sequence from cytb_seqs into protein\n",
    "    mw=compute_molecular_weight(str(aa_seq)) # calculate molecular weight of the aa string\n",
    "    GC=get_GC_content(value) # calculate the GC content for each cytb sequence\n",
    "    for index, row in bears_df.iterrows(): # loop through the bears_df\n",
    "        if bears_df.loc[index, \"species\"]==key: # check if the species in a given row of the df matches the key for a given cytb sequence\n",
    "            bears_df.loc[index, \"GC_content\"]=GC # if so, put the GC content of the cytb in that row in the column \"GC_content\"\n",
    "            bears_df.loc[index, \"molec_weight\"]=mw # similarly, add molecular weight to the df\n",
    "bears_df"
   ]
  },
  {
   "cell_type": "markdown",
   "metadata": {},
   "source": [
    "### Section 8: \n",
    "Make a bar chart of the bear species' masses."
   ]
  },
  {
   "cell_type": "code",
   "execution_count": 21,
   "metadata": {},
   "outputs": [],
   "source": [
    "# set plots to display inline:\n",
    "%matplotlib inline "
   ]
  },
  {
   "cell_type": "code",
   "execution_count": 22,
   "metadata": {},
   "outputs": [
    {
     "data": {
      "text/plain": [
       "<matplotlib.axes._subplots.AxesSubplot at 0x1eddc712dd8>"
      ]
     },
     "execution_count": 22,
     "metadata": {},
     "output_type": "execute_result"
    },
    {
     "data": {
      "image/png": "[encoded data removed]",
      "text/plain": [
       "<Figure size 432x288 with 1 Axes>"
      ]
     },
     "metadata": {
      "needs_background": "light"
     },
     "output_type": "display_data"
    }
   ],
   "source": [
    "# make bar chart of mass by species\n",
    "bears_df.groupby('species')[\"mass\"].describe()['mean'].plot(kind=\"bar\", title=\"Mass by Species\")\n",
    "# this was accomplished by: \n",
    "# grouping by species, then extracting the mass,\n",
    "# taking the mean mass for each species (although there is only one value per species here, this makes the code applicable to larger datasets),\n",
    "# and finally plotting a bar chart with the given name"
   ]
  },
  {
   "cell_type": "markdown",
   "metadata": {},
   "source": [
    "#### Question 1:\n",
    "The largest bear species is _Ursus spelaeus_, as shown in the graph above.\n",
    "#### Question 2:\n",
    "This species is also interesting because it is in the same genus (_Ursus_) as the second-smallest species in this dataset (_Ursus thibetanus_). This genus has a very wide spread of weight in its members!"
   ]
  },
  {
   "cell_type": "markdown",
   "metadata": {},
   "source": [
    "### Section 9:\n",
    "Plot molecular weight vs GC-content. "
   ]
  },
  {
   "cell_type": "code",
   "execution_count": 23,
   "metadata": {},
   "outputs": [
    {
     "data": {
      "text/plain": [
       "<seaborn.axisgrid.FacetGrid at 0x1eddc6aa828>"
      ]
     },
     "execution_count": 23,
     "metadata": {},
     "output_type": "execute_result"
    },
    {
     "data": {
      "image/png": "[encoded data removed]",
      "text/plain": [
       "<Figure size 360x360 with 1 Axes>"
      ]
     },
     "metadata": {
      "needs_background": "light"
     },
     "output_type": "display_data"
    }
   ],
   "source": [
    "sns.lmplot(\"GC_content\", \"molec_weight\", data=bears_df, fit_reg=False) \n",
    "# use seaborn lmplot to make a scatterplot,\n",
    "# with GC_content on the x axis, \"molec_weight\" on the y axis, \n",
    "# data from bears_df, and no regression line fitted."
   ]
  },
  {
   "cell_type": "markdown",
   "metadata": {},
   "source": [
    "### Section 10:\n",
    "Save the bears dataframe to a file named \"bears_mass_ctb.csv\"."
   ]
  },
  {
   "cell_type": "code",
   "execution_count": 24,
   "metadata": {},
   "outputs": [],
   "source": [
    "bears_df.to_csv(\"bears_mass_cytb.csv\") # use .to_csv() to save the dataframe to a csv file\n",
    "\n",
    "# .to_csv() is part of Pandas, and is used analogously to pandas.read_csv(\"filename\"), which we learned about in class.\n",
    "# This command is used to output a dataframe as a .csv file, using the general syntax:\n",
    "# df.to_csv(\"output_file_name.csv\")\n",
    "\n",
    "# Sources: \n",
    "# Pandas documentation at https://pandas-docs.github.io/pandas-docs-travis/generated/pandas.DataFrame.to_csv.html\n",
    "# instructional website \"Real Python\" at https://realpython.com/python-csv/#writing-csv-files-with-pandas"
   ]
  },
  {
   "cell_type": "markdown",
   "metadata": {},
   "source": [
    "### Section 11: Bonus\n",
    "Make a function to translate a _template strand_ mitochondrial DNA sequence. Take the input as a Seq object (any alphabet) and output the protein as a Seq object with alphabet IUPACProtein.\n",
    "\n",
    "Typically, BioPython assumes that a provided DNA sequence is the coding strand, not the template strand, and converts the sequence to RNA or a protein based on this a\n",
    "ssumption. If the DNA provided were instead the template strand, BioPython would first have to find the reverse complement of this sequence (this would be the coding strand) and then translate that.\n",
    "\n",
    "Source for information about BioPython's treatment of coding/template strands: BioPython wiki, https://biopython.org/wiki/Seq"
   ]
  },
  {
   "cell_type": "code",
   "execution_count": 25,
   "metadata": {},
   "outputs": [],
   "source": [
    "def translate_template(template_string): # define a function to take template strand DNA as a Seq object (any alphabet accepted)\n",
    "    template_seq=Seq(str(template_string), IUPAC.unambiguous_dna) # set alphabet as IUPAC.unambiguous_dna\n",
    "    coding=template_seq.reverse_complement() # find reverse complement of template (this is coding sequence); method found in BioPython class notes\n",
    "    aa=coding.translate(to_stop=True, table=\"Vertebrate Mitochondrial\") # translate coding sequence using Vertebrate Mitochondrial table; stop at stop codon\n",
    "    return(aa) # return translated protein as Seq object with IUPACProtein alphabet."
   ]
  },
  {
   "cell_type": "code",
   "execution_count": 26,
   "metadata": {},
   "outputs": [
    {
     "data": {
      "text/plain": [
       "Seq('MNPIKHE', IUPACProtein())"
      ]
     },
     "execution_count": 26,
     "metadata": {},
     "output_type": "execute_result"
    }
   ],
   "source": [
    "# test the function with a practice template sequence \n",
    "test_template=Seq(\"CTATTCATGCTTGATTGGATTCAT\")\n",
    "translate_template(test_template)\n",
    "# I manually found the reverse complement and translated this sequence, \n",
    "# using the vertebrate mitochondrial DNA table from Wikipedia, at https://en.wikipedia.org/wiki/Vertebrate_mitochondrial_code#Translation_table\n",
    "\n",
    "# I expect the resulting protein to be MNPIKHE"
   ]
  }
 ],
 "metadata": {
  "kernelspec": {
   "display_name": "Python 3",
   "language": "python",
   "name": "python3"
  },
  "language_info": {
   "codemirror_mode": {
    "name": "ipython",
    "version": 3
   },
   "file_extension": ".py",
   "mimetype": "text/x-python",
   "name": "python",
   "nbconvert_exporter": "python",
   "pygments_lexer": "ipython3",
   "version": "3.7.0"
  }
 },
 "nbformat": 4,
 "nbformat_minor": 2
}
